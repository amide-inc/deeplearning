{
  "nbformat": 4,
  "nbformat_minor": 0,
  "metadata": {
    "colab": {
      "name": "sentimante-analysis.ipynb",
      "provenance": [],
      "authorship_tag": "ABX9TyMcRnF/Zw76y0C+Njwq9mn6",
      "include_colab_link": true
    },
    "kernelspec": {
      "name": "python3",
      "display_name": "Python 3"
    },
    "language_info": {
      "name": "python"
    }
  },
  "cells": [
    {
      "cell_type": "markdown",
      "metadata": {
        "id": "view-in-github",
        "colab_type": "text"
      },
      "source": [
        "<a href=\"https://colab.research.google.com/github/amide-inc/deeplearning/blob/main/recognize-sentimante-text.ipynb\" target=\"_parent\"><img src=\"https://colab.research.google.com/assets/colab-badge.svg\" alt=\"Open In Colab\"/></a>"
      ]
    },
    {
      "cell_type": "code",
      "metadata": {
        "id": "ULNCt5A1Z7XI"
      },
      "source": [
        "#run this to ensure tensorflow 2.x is used\n",
        "try:\n",
        "  # %tensorflow_version only exists in colab\n",
        "  %tensorflow_version 2.x\n",
        "except Exception:\n",
        "  pass"
      ],
      "execution_count": 1,
      "outputs": []
    },
    {
      "cell_type": "code",
      "metadata": {
        "id": "AlQW-Te1otyU"
      },
      "source": [
        "import json\n",
        "import tensorflow as tf\n",
        "\n",
        "from tensorflow.keras.preprocessing.text import Tokenizer\n",
        "from tensorflow.keras.preprocessing.sequence import pad_sequences"
      ],
      "execution_count": 2,
      "outputs": []
    },
    {
      "cell_type": "code",
      "metadata": {
        "id": "yd1YkzP6pJlf"
      },
      "source": [
        "vacob_size = 10000\n",
        "embedding_dim = 16\n",
        "max_length = 100\n",
        "trunc_type = 'post'\n",
        "padding_type ='post'\n",
        "oov_tok = '<OOV>'\n",
        "training_size = 20000"
      ],
      "execution_count": 3,
      "outputs": []
    },
    {
      "cell_type": "code",
      "metadata": {
        "colab": {
          "base_uri": "https://localhost:8080/"
        },
        "id": "Cgzbx9gSpdyL",
        "outputId": "50499c98-d6df-4909-8686-902a88ef05fa"
      },
      "source": [
        "!wget --no-check-certificate \\\n",
        "    https://storage.googleapis.com/laurencemoroney-blog.appspot.com/sarcasm.json \\\n",
        "    -O /tmp/sarcasm.json"
      ],
      "execution_count": 5,
      "outputs": [
        {
          "output_type": "stream",
          "text": [
            "--2021-06-14 08:33:15--  https://storage.googleapis.com/laurencemoroney-blog.appspot.com/sarcasm.json\n",
            "Resolving storage.googleapis.com (storage.googleapis.com)... 142.250.128.128, 142.251.6.128, 74.125.70.128, ...\n",
            "Connecting to storage.googleapis.com (storage.googleapis.com)|142.250.128.128|:443... connected.\n",
            "HTTP request sent, awaiting response... 200 OK\n",
            "Length: 5643545 (5.4M) [application/json]\n",
            "Saving to: ‘/tmp/sarcasm.json’\n",
            "\n",
            "\r/tmp/sarcasm.json     0%[                    ]       0  --.-KB/s               \r/tmp/sarcasm.json   100%[===================>]   5.38M  --.-KB/s    in 0.05s   \n",
            "\n",
            "2021-06-14 08:33:15 (102 MB/s) - ‘/tmp/sarcasm.json’ saved [5643545/5643545]\n",
            "\n"
          ],
          "name": "stdout"
        }
      ]
    },
    {
      "cell_type": "code",
      "metadata": {
        "id": "Q6tgEk0Mp0Of"
      },
      "source": [
        "with open('/tmp/sarcasm.json', 'r') as f:\n",
        "  datastore = json.load(f)\n"
      ],
      "execution_count": 6,
      "outputs": []
    },
    {
      "cell_type": "code",
      "metadata": {
        "id": "NX2exDE3sfnv"
      },
      "source": [
        "sentences = []\n",
        "labels = []\n",
        "\n",
        "for item in datastore:\n",
        "  sentences.append(item['headline'])\n",
        "  labels.append(item['is_sarcastic'])"
      ],
      "execution_count": 9,
      "outputs": []
    },
    {
      "cell_type": "code",
      "metadata": {
        "id": "A-gNNVVWsiMT"
      },
      "source": [
        "training_sentences = sentences[0:training_size]\n",
        "testing_sentences = sentences[training_size:]\n",
        "\n",
        "training_labels = labels[0:training_size]\n",
        "testing_labels = labels[training_size:]\n"
      ],
      "execution_count": 11,
      "outputs": []
    },
    {
      "cell_type": "code",
      "metadata": {
        "id": "Ewp1lyMds8Vg"
      },
      "source": [
        "tokenizer = Tokenizer(num_words=vacob_size, oov_token=oov_tok)\n",
        "tokenizer.fit_on_texts(training_sentences)\n",
        "\n",
        "word_index = tokenizer.word_index\n",
        "\n",
        "training_sequences = tokenizer.texts_to_sequences(training_sentences)\n",
        "training_padded = pad_sequences(training_sequences, maxlen=max_length, padding=padding_type, truncating=trunc_type)\n",
        "\n",
        "testing_sequences = tokenizer.texts_to_sequences(testing_sentences)\n",
        "testing_padded = pad_sequences(testing_sequences, maxlen=max_length, padding=padding_type, truncating=trunc_type)\n"
      ],
      "execution_count": 15,
      "outputs": []
    },
    {
      "cell_type": "code",
      "metadata": {
        "id": "B3ZAl_GJt6DA"
      },
      "source": [
        "# Need this block to get it to work with TensorFlow 2.x\n",
        "import numpy as np\n",
        "traing_padded = np.array(training_padded)\n",
        "training_labels = np.array(training_labels)\n",
        "\n",
        "testing_padded =  np.array(testing_padded)\n",
        "testing_labels = np.array(testing_labels)\n"
      ],
      "execution_count": 16,
      "outputs": []
    },
    {
      "cell_type": "markdown",
      "metadata": {
        "id": "7X8AqMe4viUA"
      },
      "source": [
        "##create RNN model"
      ]
    },
    {
      "cell_type": "code",
      "metadata": {
        "id": "dT5zcLEFvgEy"
      },
      "source": [
        "model = tf.keras.Sequential([\n",
        "    tf.keras.layers.Embedding(vacob_size, embedding_dim, input_length=max_length),\n",
        "    tf.keras.layers.GlobalAveragePooling1D(),\n",
        "    tf.keras.layers.Dense(24, activation='relu'),\n",
        "    tf.keras.layers.Dense(1, activation='sigmoid')             \n",
        "])"
      ],
      "execution_count": 27,
      "outputs": []
    },
    {
      "cell_type": "code",
      "metadata": {
        "id": "FuG2W0eTxh_J"
      },
      "source": [
        "#add optimizer\n",
        "model.compile(loss='binary_crossentropy', optimizer='adam', metrics=['accuracy'])"
      ],
      "execution_count": 29,
      "outputs": []
    },
    {
      "cell_type": "code",
      "metadata": {
        "colab": {
          "base_uri": "https://localhost:8080/"
        },
        "id": "feRuzRWrxtYt",
        "outputId": "eb93d149-6d77-4505-fd6b-d2d1d5d01c6c"
      },
      "source": [
        "model.summary()"
      ],
      "execution_count": 30,
      "outputs": [
        {
          "output_type": "stream",
          "text": [
            "Model: \"sequential_1\"\n",
            "_________________________________________________________________\n",
            "Layer (type)                 Output Shape              Param #   \n",
            "=================================================================\n",
            "embedding_1 (Embedding)      (None, 100, 16)           160000    \n",
            "_________________________________________________________________\n",
            "global_average_pooling1d_1 ( (None, 16)                0         \n",
            "_________________________________________________________________\n",
            "dense_2 (Dense)              (None, 24)                408       \n",
            "_________________________________________________________________\n",
            "dense_3 (Dense)              (None, 1)                 25        \n",
            "=================================================================\n",
            "Total params: 160,433\n",
            "Trainable params: 160,433\n",
            "Non-trainable params: 0\n",
            "_________________________________________________________________\n"
          ],
          "name": "stdout"
        }
      ]
    },
    {
      "cell_type": "code",
      "metadata": {
        "colab": {
          "base_uri": "https://localhost:8080/"
        },
        "id": "XrUgyJlfxvir",
        "outputId": "4af0365b-1261-4d3c-d8fb-6cefebf2f5c1"
      },
      "source": [
        "num_epochs = 30\n",
        "history = model.fit(traing_padded, training_labels, epochs=num_epochs, validation_data=(testing_padded, testing_labels), verbose=2)"
      ],
      "execution_count": 31,
      "outputs": [
        {
          "output_type": "stream",
          "text": [
            "Epoch 1/30\n",
            "625/625 - 2s - loss: 0.6617 - accuracy: 0.5905 - val_loss: 0.5649 - val_accuracy: 0.7076\n",
            "Epoch 2/30\n",
            "625/625 - 2s - loss: 0.4138 - accuracy: 0.8342 - val_loss: 0.3753 - val_accuracy: 0.8408\n",
            "Epoch 3/30\n",
            "625/625 - 2s - loss: 0.2983 - accuracy: 0.8812 - val_loss: 0.3562 - val_accuracy: 0.8474\n",
            "Epoch 4/30\n",
            "625/625 - 2s - loss: 0.2479 - accuracy: 0.9028 - val_loss: 0.3475 - val_accuracy: 0.8547\n",
            "Epoch 5/30\n",
            "625/625 - 2s - loss: 0.2120 - accuracy: 0.9168 - val_loss: 0.3485 - val_accuracy: 0.8496\n",
            "Epoch 6/30\n",
            "625/625 - 2s - loss: 0.1870 - accuracy: 0.9286 - val_loss: 0.3571 - val_accuracy: 0.8535\n",
            "Epoch 7/30\n",
            "625/625 - 2s - loss: 0.1636 - accuracy: 0.9392 - val_loss: 0.3723 - val_accuracy: 0.8529\n",
            "Epoch 8/30\n",
            "625/625 - 2s - loss: 0.1467 - accuracy: 0.9470 - val_loss: 0.3894 - val_accuracy: 0.8514\n",
            "Epoch 9/30\n",
            "625/625 - 2s - loss: 0.1317 - accuracy: 0.9528 - val_loss: 0.4100 - val_accuracy: 0.8512\n",
            "Epoch 10/30\n",
            "625/625 - 2s - loss: 0.1182 - accuracy: 0.9577 - val_loss: 0.4466 - val_accuracy: 0.8442\n",
            "Epoch 11/30\n",
            "625/625 - 2s - loss: 0.1071 - accuracy: 0.9632 - val_loss: 0.4611 - val_accuracy: 0.8456\n",
            "Epoch 12/30\n",
            "625/625 - 2s - loss: 0.0969 - accuracy: 0.9667 - val_loss: 0.4856 - val_accuracy: 0.8422\n",
            "Epoch 13/30\n",
            "625/625 - 2s - loss: 0.0866 - accuracy: 0.9710 - val_loss: 0.5259 - val_accuracy: 0.8365\n",
            "Epoch 14/30\n",
            "625/625 - 2s - loss: 0.0809 - accuracy: 0.9736 - val_loss: 0.5427 - val_accuracy: 0.8398\n",
            "Epoch 15/30\n",
            "625/625 - 2s - loss: 0.0726 - accuracy: 0.9772 - val_loss: 0.5745 - val_accuracy: 0.8346\n",
            "Epoch 16/30\n",
            "625/625 - 2s - loss: 0.0668 - accuracy: 0.9783 - val_loss: 0.6236 - val_accuracy: 0.8302\n",
            "Epoch 17/30\n",
            "625/625 - 2s - loss: 0.0637 - accuracy: 0.9786 - val_loss: 0.6486 - val_accuracy: 0.8308\n",
            "Epoch 18/30\n",
            "625/625 - 2s - loss: 0.0555 - accuracy: 0.9826 - val_loss: 0.6670 - val_accuracy: 0.8299\n",
            "Epoch 19/30\n",
            "625/625 - 2s - loss: 0.0501 - accuracy: 0.9847 - val_loss: 0.7149 - val_accuracy: 0.8252\n",
            "Epoch 20/30\n",
            "625/625 - 2s - loss: 0.0461 - accuracy: 0.9865 - val_loss: 0.7406 - val_accuracy: 0.8241\n",
            "Epoch 21/30\n",
            "625/625 - 2s - loss: 0.0421 - accuracy: 0.9875 - val_loss: 0.7939 - val_accuracy: 0.8240\n",
            "Epoch 22/30\n",
            "625/625 - 2s - loss: 0.0396 - accuracy: 0.9886 - val_loss: 0.8316 - val_accuracy: 0.8202\n",
            "Epoch 23/30\n",
            "625/625 - 2s - loss: 0.0384 - accuracy: 0.9876 - val_loss: 0.8622 - val_accuracy: 0.8176\n",
            "Epoch 24/30\n",
            "625/625 - 2s - loss: 0.0350 - accuracy: 0.9890 - val_loss: 0.8790 - val_accuracy: 0.8189\n",
            "Epoch 25/30\n",
            "625/625 - 2s - loss: 0.0306 - accuracy: 0.9915 - val_loss: 0.9365 - val_accuracy: 0.8164\n",
            "Epoch 26/30\n",
            "625/625 - 2s - loss: 0.0295 - accuracy: 0.9911 - val_loss: 0.9862 - val_accuracy: 0.8125\n",
            "Epoch 27/30\n",
            "625/625 - 2s - loss: 0.0270 - accuracy: 0.9918 - val_loss: 1.0168 - val_accuracy: 0.8135\n",
            "Epoch 28/30\n",
            "625/625 - 2s - loss: 0.0248 - accuracy: 0.9926 - val_loss: 1.0792 - val_accuracy: 0.8092\n",
            "Epoch 29/30\n",
            "625/625 - 2s - loss: 0.0224 - accuracy: 0.9934 - val_loss: 1.0935 - val_accuracy: 0.8111\n",
            "Epoch 30/30\n",
            "625/625 - 2s - loss: 0.0201 - accuracy: 0.9941 - val_loss: 1.1439 - val_accuracy: 0.8110\n"
          ],
          "name": "stdout"
        }
      ]
    },
    {
      "cell_type": "markdown",
      "metadata": {
        "id": "ra7HdZEsy3o0"
      },
      "source": [
        "##ploting"
      ]
    },
    {
      "cell_type": "code",
      "metadata": {
        "id": "6C5-mAqUybcx"
      },
      "source": [
        "import matplotlib.pyplot as plt\n",
        "\n",
        "def plot_graph(history, string):\n",
        "  plt.plot(history.history[string])\n",
        "  plt.plot(history.history['val_' + string])\n",
        "\n",
        "  plt.xlabel(\"Epochs\")\n",
        "  plt.ylabel(string)\n",
        "  plt.legend([string, 'val_'+string])\n",
        "  plt.show()"
      ],
      "execution_count": 33,
      "outputs": []
    },
    {
      "cell_type": "code",
      "metadata": {
        "colab": {
          "base_uri": "https://localhost:8080/",
          "height": 545
        },
        "id": "jh76rFtCzdTv",
        "outputId": "88dce2d2-b9ca-4520-e6bd-3298300891bf"
      },
      "source": [
        "plot_graph(history, 'accuracy')\n",
        "plot_graph(history, \"loss\")"
      ],
      "execution_count": 34,
      "outputs": [
        {
          "output_type": "display_data",
          "data": {
            "image/png": "[encoded data removed]",
            "text/plain": [
              "<Figure size 432x288 with 1 Axes>"
            ]
          },
          "metadata": {
            "tags": [],
            "needs_background": "light"
          }
        },
        {
          "output_type": "display_data",
          "data": {
            "image/png": "[encoded data removed]",
            "text/plain": [
              "<Figure size 432x288 with 1 Axes>"
            ]
          },
          "metadata": {
            "tags": [],
            "needs_background": "light"
          }
        }
      ]
    },
    {
      "cell_type": "code",
      "metadata": {
        "id": "phLxcC8475Uj"
      },
      "source": [
        "reverse_word_index = dict([(value, key) for (key, value) in word_index.items()])"
      ],
      "execution_count": 35,
      "outputs": []
    },
    {
      "cell_type": "code",
      "metadata": {
        "colab": {
          "base_uri": "https://localhost:8080/"
        },
        "id": "lpo-1cpr89xw",
        "outputId": "2e2a4474-cb03-4af4-841d-5465f81f5b06"
      },
      "source": [
        "def decode_sentences(text):\n",
        "  return ' '.join([reverse_word_index.get(i, '?') for i in text])\n",
        "\n",
        "print(decode_sentences(training_padded[2]))\n",
        "print(training_sentences[2])\n",
        "print(labels[2])"
      ],
      "execution_count": 37,
      "outputs": [
        {
          "output_type": "stream",
          "text": [
            "mom starting to fear son's web series closest thing she will have to grandchild ? ? ? ? ? ? ? ? ? ? ? ? ? ? ? ? ? ? ? ? ? ? ? ? ? ? ? ? ? ? ? ? ? ? ? ? ? ? ? ? ? ? ? ? ? ? ? ? ? ? ? ? ? ? ? ? ? ? ? ? ? ? ? ? ? ? ? ? ? ? ? ? ? ? ? ? ? ? ? ? ? ? ? ? ? ?\n",
            "mom starting to fear son's web series closest thing she will have to grandchild\n",
            "1\n"
          ],
          "name": "stdout"
        }
      ]
    },
    {
      "cell_type": "code",
      "metadata": {
        "colab": {
          "base_uri": "https://localhost:8080/"
        },
        "id": "zvXjHgj29zML",
        "outputId": "0cf30d79-f31b-47dc-8eab-6abfb4a0f580"
      },
      "source": [
        "e =  model.layers[0]\n",
        "weights = e.get_weights()[0]\n",
        "print(weights[0])"
      ],
      "execution_count": 39,
      "outputs": [
        {
          "output_type": "stream",
          "text": [
            "[ 0.03876247 -0.01213043 -0.04581573 -0.00042408  0.0028717  -0.00620314\n",
            "  0.12488276  0.12198076 -0.01339776 -0.00784733 -0.03061398  0.00164527\n",
            "  0.03853206 -0.04911447  0.02305983  0.03217307]\n"
          ],
          "name": "stdout"
        }
      ]
    },
    {
      "cell_type": "code",
      "metadata": {
        "id": "84H1PQhQ9_so"
      },
      "source": [
        "import io\n",
        "out_v = io.open('vecs.tsv', 'w', encoding='utf-8')\n",
        "out_m = io.open('meta.tsv', 'w', encoding='utf-8')\n",
        "\n",
        "for word_num in range(1, vacob_size):\n",
        "  word = reverse_word_index[word_num]\n",
        "  embeddings = weights[word_num]\n",
        "  out_m.write(word + '\\n')\n",
        "  out_v.write('\\t'.join([str(x) for x in embeddings]) + \"\\n\")\n",
        "out_v.close()\n",
        "out_m.close()\n"
      ],
      "execution_count": 41,
      "outputs": []
    },
    {
      "cell_type": "code",
      "metadata": {
        "colab": {
          "base_uri": "https://localhost:8080/",
          "height": 17
        },
        "id": "0zMOgWSO_zus",
        "outputId": "1a65b681-987a-4f16-c707-a8264754d8be"
      },
      "source": [
        "try:\n",
        "  from google.colab import files\n",
        "except ImportError:\n",
        "  pass\n",
        "else:\n",
        "  files.download('vecs.tsv')\n",
        "  files.download('meta.tsv')"
      ],
      "execution_count": 42,
      "outputs": [
        {
          "output_type": "display_data",
          "data": {
            "application/javascript": [
              "\n",
              "    async function download(id, filename, size) {\n",
              "      if (!google.colab.kernel.accessAllowed) {\n",
              "        return;\n",
              "      }\n",
              "      const div = document.createElement('div');\n",
              "      const label = document.createElement('label');\n",
              "      label.textContent = `Downloading \"${filename}\": `;\n",
              "      div.appendChild(label);\n",
              "      const progress = document.createElement('progress');\n",
              "      progress.max = size;\n",
              "      div.appendChild(progress);\n",
              "      document.body.appendChild(div);\n",
              "\n",
              "      const buffers = [];\n",
              "      let downloaded = 0;\n",
              "\n",
              "      const channel = await google.colab.kernel.comms.open(id);\n",
              "      // Send a message to notify the kernel that we're ready.\n",
              "      channel.send({})\n",
              "\n",
              "      for await (const message of channel.messages) {\n",
              "        // Send a message to notify the kernel that we're ready.\n",
              "        channel.send({})\n",
              "        if (message.buffers) {\n",
              "          for (const buffer of message.buffers) {\n",
              "            buffers.push(buffer);\n",
              "            downloaded += buffer.byteLength;\n",
              "            progress.value = downloaded;\n",
              "          }\n",
              "        }\n",
              "      }\n",
              "      const blob = new Blob(buffers, {type: 'application/binary'});\n",
              "      const a = document.createElement('a');\n",
              "      a.href = window.URL.createObjectURL(blob);\n",
              "      a.download = filename;\n",
              "      div.appendChild(a);\n",
              "      a.click();\n",
              "      div.remove();\n",
              "    }\n",
              "  "
            ],
            "text/plain": [
              "<IPython.core.display.Javascript object>"
            ]
          },
          "metadata": {
            "tags": []
          }
        },
        {
          "output_type": "display_data",
          "data": {
            "application/javascript": [
              "download(\"download_c9ca563f-caeb-4155-930d-592e6070fd41\", \"vecs.tsv\", 1816911)"
            ],
            "text/plain": [
              "<IPython.core.display.Javascript object>"
            ]
          },
          "metadata": {
            "tags": []
          }
        },
        {
          "output_type": "display_data",
          "data": {
            "application/javascript": [
              "\n",
              "    async function download(id, filename, size) {\n",
              "      if (!google.colab.kernel.accessAllowed) {\n",
              "        return;\n",
              "      }\n",
              "      const div = document.createElement('div');\n",
              "      const label = document.createElement('label');\n",
              "      label.textContent = `Downloading \"${filename}\": `;\n",
              "      div.appendChild(label);\n",
              "      const progress = document.createElement('progress');\n",
              "      progress.max = size;\n",
              "      div.appendChild(progress);\n",
              "      document.body.appendChild(div);\n",
              "\n",
              "      const buffers = [];\n",
              "      let downloaded = 0;\n",
              "\n",
              "      const channel = await google.colab.kernel.comms.open(id);\n",
              "      // Send a message to notify the kernel that we're ready.\n",
              "      channel.send({})\n",
              "\n",
              "      for await (const message of channel.messages) {\n",
              "        // Send a message to notify the kernel that we're ready.\n",
              "        channel.send({})\n",
              "        if (message.buffers) {\n",
              "          for (const buffer of message.buffers) {\n",
              "            buffers.push(buffer);\n",
              "            downloaded += buffer.byteLength;\n",
              "            progress.value = downloaded;\n",
              "          }\n",
              "        }\n",
              "      }\n",
              "      const blob = new Blob(buffers, {type: 'application/binary'});\n",
              "      const a = document.createElement('a');\n",
              "      a.href = window.URL.createObjectURL(blob);\n",
              "      a.download = filename;\n",
              "      div.appendChild(a);\n",
              "      a.click();\n",
              "      div.remove();\n",
              "    }\n",
              "  "
            ],
            "text/plain": [
              "<IPython.core.display.Javascript object>"
            ]
          },
          "metadata": {
            "tags": []
          }
        },
        {
          "output_type": "display_data",
          "data": {
            "application/javascript": [
              "download(\"download_e2da58bc-78a1-4358-b3d5-4e87414c046a\", \"meta.tsv\", 75974)"
            ],
            "text/plain": [
              "<IPython.core.display.Javascript object>"
            ]
          },
          "metadata": {
            "tags": []
          }
        }
      ]
    },
    {
      "cell_type": "code",
      "metadata": {
        "id": "HW-zuA80CFDy"
      },
      "source": [
        "def final_word(num):\n",
        "  if num >= 0.7:\n",
        "    return \"Very funny, Now please shutup\"\n",
        "  elif num < 0.3:\n",
        "    return \"Yeah You are saying right\"\n",
        "  return \"Ok\""
      ],
      "execution_count": 55,
      "outputs": []
    },
    {
      "cell_type": "code",
      "metadata": {
        "id": "hdC1ngiyAcKg",
        "outputId": "22907c5c-6092-48f4-8705-eb49ab2ea9b7",
        "colab": {
          "base_uri": "https://localhost:8080/"
        }
      },
      "source": [
        "sentence = [\"granny starting to fear spiders in the garden might be real\", \"game of thrones season finale showing this sunday night\", \"You chest loooks like a boobs\"]\n",
        "sequences = tokenizer.texts_to_sequences(sentence)\n",
        "padded = pad_sequences(sequences, maxlen=max_length, padding=padding_type, truncating=trunc_type)\n",
        "# print(model.predict(padded))\n",
        "print(final_word(model.predict(padded)[2]))\n"
      ],
      "execution_count": 63,
      "outputs": [
        {
          "output_type": "stream",
          "text": [
            "Very funny, Now please shutup\n"
          ],
          "name": "stdout"
        }
      ]
    },
    {
      "cell_type": "code",
      "metadata": {
        "id": "LqJIS2icAcAj"
      },
      "source": [
        ""
      ],
      "execution_count": null,
      "outputs": []
    }
  ]
}